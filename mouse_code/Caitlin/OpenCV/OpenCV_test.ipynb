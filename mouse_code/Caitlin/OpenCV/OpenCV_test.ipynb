{
 "cells": [
  {
   "cell_type": "code",
   "execution_count": 2,
   "metadata": {},
   "outputs": [],
   "source": [
    "import cv2\n",
    "import numpy as np\n",
    "import matplotlib.pyplot as plt\n",
    "import matplotlib.image as mpimg"
   ]
  },
  {
   "cell_type": "code",
   "execution_count": null,
   "metadata": {},
   "outputs": [],
   "source": [
    "img = cv2.imread('tape_road.jpg')\n",
    "gray = cv2.cvtColor(img,cv2.COLOR_BGR2GRAY)\n",
    "edges = cv2.Canny(gray,200,255)\n",
    "cv2.imwrite('tape_road_edges.jpg',edges)\n",
    "lines = cv2.HoughLinesP(edges,1,np.pi/180,100,minLineLength=100,maxLineGap=10)\n",
    "\n",
    "i = 0\n",
    "maxSlope_ind = 0\n",
    "maxSlope = 0\n",
    "maxSlope2_ind = 0\n",
    "maxSlope2 = 0\n",
    "\n",
    "for line in lines:\n",
    "    for x1,y1,x2,y2 in line:\n",
    "        slope = (y2-y1)/(x2-x1)\n",
    "        print(\"slope \", i, \" = \", slope)\n",
    "        if abs(slope)>abs(maxSlope):\n",
    "            maxSlope2 = maxSlope\n",
    "            maxSlope2_ind = maxSlope_ind\n",
    "            maxSlope = slope\n",
    "            maxSlope_ind = i\n",
    "        elif abs(slope)>abs(maxSlope2):\n",
    "            maxSlope2 = slope\n",
    "            maxSlope2_ind = i\n",
    "        i = i+1\n",
    "        \n",
    "kept_lines = np.stack((lines[maxSlope_ind], lines[maxSlope2_ind]))\n",
    "for line in kept_lines:\n",
    "    for x1,y1,x2,y2 in line:\n",
    "        cv2.line(img,(x1,y1),(x2,y2),(0,255,0),2)\n",
    "        \n",
    "cv2.imwrite('tape_road_kept_lines.jpg',img)"
   ]
  },
  {
   "cell_type": "code",
   "execution_count": 55,
   "metadata": {},
   "outputs": [
    {
     "name": "stdout",
     "output_type": "stream",
     "text": [
      "number of lines:  2\n",
      "lines array: \n",
      "[[[310 170 393 425]]\n",
      "\n",
      " [[144 373 256 206]]]\n",
      "\n",
      "lines dimensions:  (2, 1, 4)\n",
      "3.072289156626506\n",
      "-1.4910714285714286\n",
      "type(x_der):  <class 'numpy.int32'>\n",
      "c_line_x1:  288\n",
      "type(line2 x2):  <class 'numpy.intc'>\n",
      "type(c_line_x1):  <class 'numpy.int32'>\n",
      "c_line.shape:  (1, 1, 4)\n",
      "c_line array: \n",
      " [[[288 206 254 406]]] \n",
      "\n",
      "lines array after append: \n",
      " [[[310 170 393 425]]\n",
      "\n",
      " [[144 373 256 206]]\n",
      "\n",
      " [[288 206 254 406]]] \n",
      "\n"
     ]
    },
    {
     "data": {
      "text/plain": [
       "True"
      ]
     },
     "execution_count": 55,
     "metadata": {},
     "output_type": "execute_result"
    }
   ],
   "source": [
    "# Prob Hough transform on camera image\n",
    "# Has increased thresholds\n",
    "\n",
    "img = cv2.imread('tape_road.jpg')\n",
    "gray = cv2.cvtColor(img,cv2.COLOR_BGR2GRAY)\n",
    "edges = cv2.Canny(gray,200,255)\n",
    "cv2.imwrite('tape_road_edges.jpg',edges)\n",
    "lines = cv2.HoughLinesP(edges,1,np.pi/180,100,minLineLength=160,maxLineGap=10)\n",
    "print(\"number of lines: \", len(lines))\n",
    "print(\"lines array: \")\n",
    "print(lines)\n",
    "print(\"\\nlines dimensions: \", lines.shape)\n",
    "\n",
    "for line in lines:\n",
    "    for x1,y1,x2,y2 in line:\n",
    "        print((y2-y1)/(x2-x1))\n",
    "\n",
    "# x1_der = derived x-coordinate at y = 206 for line 1\n",
    "l1_y3 = lines[1][0][3]\n",
    "l1_x3 = ((l1_y3 - lines[0][0][1])/slopes[0]) + lines[0][0][0]\n",
    "l1_x3 = l1_x3.astype(int)\n",
    "print(\"type(x_der): \", type(l1_x3))\n",
    "#print(x1_der)\n",
    "\n",
    "c_line_y1 = l1_y3\n",
    "c_line_x1 = (l1_x3 + lines[1][0][2])/2\n",
    "c_line_x1 = c_line_x1.astype(int)\n",
    "print(\"c_line_x1: \", c_line_x1)\n",
    "\n",
    "c_line_y2 = c_line_y1 + 200\n",
    "l1_x4 = ((c_line_y2 - lines[0][0][1])/slopes[0]) + lines[0][0][0]\n",
    "l2_x4 = ((c_line_y2 - lines[1][0][1])/slopes[1]) + lines[1][0][0]\n",
    "\n",
    "c_line_x2 = (l1_x4 + l2_x4)/2\n",
    "c_line_x2 = c_line_x2.astype(int)\n",
    "\n",
    "print(\"type(line2 x2): \", type(lines[1][0][3]))\n",
    "print(\"type(c_line_x1): \", type(c_line_x1))\n",
    "\n",
    "c_line = np.array([[[c_line_x1, c_line_y1, c_line_x2, c_line_y2]]])\n",
    "print(\"c_line.shape: \", c_line.shape)\n",
    "print(\"c_line array: \\n\", c_line, \"\\n\")\n",
    "\n",
    "new_lines = np.append(lines, c_line, axis=0)\n",
    "print(\"lines array after append: \\n\", new_lines, \"\\n\")\n",
    "#print(new_lines.dtype)\n",
    "\n",
    "for line in new_lines:\n",
    "    for x1,y1,x2,y2 in line:\n",
    "        cv2.line(img,(x1,y1),(x2,y2),(0,255,0),2)\n",
    "\n",
    "cv2.imwrite('tape_road_c_line.jpg',img)"
   ]
  },
  {
   "cell_type": "code",
   "execution_count": 65,
   "metadata": {},
   "outputs": [
    {
     "name": "stdout",
     "output_type": "stream",
     "text": [
      "number of lines:  10\n",
      "lines array: \n",
      "[[[310 170 393 425]]\n",
      "\n",
      " [[144 373 256 206]]\n",
      "\n",
      " [[  5 202 120 210]]\n",
      "\n",
      " [[ 79 218 206 220]]\n",
      "\n",
      " [[  0 196 157 196]]\n",
      "\n",
      " [[ 20 195 153 167]]\n",
      "\n",
      " [[  2 194 164 194]]\n",
      "\n",
      " [[122 411 192 299]]\n",
      "\n",
      " [[ 27 177 135 162]]\n",
      "\n",
      " [[ 55 197 164 170]]]\n",
      "\n",
      "lines dimensions:  (10, 1, 4)\n",
      "slope  0  =  3.072289156626506\n",
      "new maxSlope =  3.072289156626506  at i =  0\n",
      "maxSlope2 =  0  at i =  0\n",
      "slope  1  =  -1.4910714285714286\n",
      "new maxSlope2 =  -1.4910714285714286  at i =  1\n",
      "slope  2  =  0.06956521739130435\n",
      "slope  3  =  0.015748031496062992\n",
      "slope  4  =  0.0\n",
      "slope  5  =  -0.21052631578947367\n",
      "slope  6  =  0.0\n",
      "slope  7  =  -1.6\n",
      "new maxSlope2 =  -1.6  at i =  7\n",
      "slope  8  =  -0.1388888888888889\n",
      "slope  9  =  -0.24770642201834864\n",
      "maxSlope =  3.072289156626506  at index =  0\n",
      "maxSlope2 =  -1.6  at index =  7\n",
      "[[310 170 393 425]]\n",
      "[[[310 170 393 425]]\n",
      "\n",
      " [[122 411 192 299]]]\n"
     ]
    },
    {
     "data": {
      "text/plain": [
       "True"
      ]
     },
     "execution_count": 65,
     "metadata": {},
     "output_type": "execute_result"
    }
   ],
   "source": [
    "# Prob Hough transform on camera image with selecting tape edges\n",
    "# with print statements\n",
    "\n",
    "img = cv2.imread('tape_road.jpg')\n",
    "gray = cv2.cvtColor(img,cv2.COLOR_BGR2GRAY)\n",
    "edges = cv2.Canny(gray,200,255)\n",
    "cv2.imwrite('tape_road_edges.jpg',edges)\n",
    "lines = cv2.HoughLinesP(edges,1,np.pi/180,100,minLineLength=100,maxLineGap=10)\n",
    "print(\"number of lines: \", len(lines))\n",
    "print(\"lines array: \")\n",
    "print(lines)\n",
    "print(\"\\nlines dimensions: \", lines.shape)\n",
    "\n",
    "i = 0\n",
    "maxSlope_ind = 0\n",
    "maxSlope = 0\n",
    "maxSlope2_ind = 0\n",
    "maxSlope2 = 0\n",
    "\n",
    "\n",
    "for line in lines:\n",
    "    for x1,y1,x2,y2 in line:\n",
    "        slope = (y2-y1)/(x2-x1)\n",
    "        print(\"slope \", i, \" = \", slope)\n",
    "        if abs(slope)>abs(maxSlope):\n",
    "            maxSlope2 = maxSlope\n",
    "            maxSlope2_ind = maxSlope_ind\n",
    "            maxSlope = slope\n",
    "            maxSlope_ind = i\n",
    "            print(\"new maxSlope = \", maxSlope, \" at i = \", maxSlope_ind)\n",
    "            print(\"maxSlope2 = \", maxSlope2, \" at i = \", maxSlope2_ind)\n",
    "        elif abs(slope)>abs(maxSlope2):\n",
    "            maxSlope2 = slope\n",
    "            maxSlope2_ind = i\n",
    "            print(\"new maxSlope2 = \", maxSlope2, \" at i = \", maxSlope2_ind)\n",
    "        i = i+1\n",
    "        \n",
    "print(\"maxSlope = \", maxSlope, \" at index = \", maxSlope_ind)\n",
    "print(\"maxSlope2 = \", maxSlope2, \" at index = \", maxSlope2_ind)\n",
    "\n",
    "print(lines[maxSlope_ind])\n",
    "kept_lines = np.stack((lines[maxSlope_ind], lines[maxSlope2_ind]))\n",
    "print(kept_lines)\n",
    "\n",
    "for line in kept_lines:\n",
    "    for x1,y1,x2,y2 in line:\n",
    "        cv2.line(img,(x1,y1),(x2,y2),(0,255,0),2)\n",
    "        \n",
    "cv2.imwrite('tape_road_kept_lines.jpg',img)\n"
   ]
  },
  {
   "cell_type": "code",
   "execution_count": null,
   "metadata": {},
   "outputs": [],
   "source": [
    "# x1_der = derived x-coordinate at y = 206 for line 1\n",
    "l1_y3 = lines[1][0][3]\n",
    "l1_x3 = ((l1_y3 - lines[0][0][1])/slopes[0]) + lines[0][0][0]\n",
    "l1_x3 = l1_x3.astype(int)\n",
    "print(\"type(x_der): \", type(l1_x3))\n",
    "#print(x1_der)\n",
    "\n",
    "c_line_y1 = l1_y3\n",
    "c_line_x1 = (l1_x3 + lines[1][0][2])/2\n",
    "c_line_x1 = c_line_x1.astype(int)\n",
    "print(\"c_line_x1: \", c_line_x1)\n",
    "\n",
    "c_line_y2 = c_line_y1 + 200\n",
    "l1_x4 = ((c_line_y2 - lines[0][0][1])/slopes[0]) + lines[0][0][0]\n",
    "l2_x4 = ((c_line_y2 - lines[1][0][1])/slopes[1]) + lines[1][0][0]\n",
    "\n",
    "c_line_x2 = (l1_x4 + l2_x4)/2\n",
    "c_line_x2 = c_line_x2.astype(int)\n",
    "\n",
    "print(\"type(line2 x2): \", type(lines[1][0][3]))\n",
    "print(\"type(c_line_x1): \", type(c_line_x1))\n",
    "\n",
    "c_line = np.array([[[c_line_x1, c_line_y1, c_line_x2, c_line_y2]]])\n",
    "print(\"c_line.shape: \", c_line.shape)\n",
    "print(\"c_line array: \\n\", c_line, \"\\n\")\n",
    "\n",
    "new_lines = np.append(lines, c_line, axis=0)\n",
    "print(\"lines array after append: \\n\", new_lines, \"\\n\")\n",
    "#print(new_lines.dtype)"
   ]
  },
  {
   "cell_type": "code",
   "execution_count": 44,
   "metadata": {},
   "outputs": [
    {
     "data": {
      "text/plain": [
       "True"
      ]
     },
     "execution_count": 44,
     "metadata": {},
     "output_type": "execute_result"
    }
   ],
   "source": [
    "# Darkened top half of image to try to remove some details from surrounding environment\n",
    "# Doesn't work as well as increasing thresholds\n",
    "img = cv2.imread('tape_road.jpg')\n",
    "#print(type(img))\n",
    "\n",
    "#img.shape\n",
    "# image is 426 tall, 640 wide\n",
    "for row in range(240):\n",
    "    for col in range(640):\n",
    "        for p in range(3):\n",
    "            img[row][col][p] = img[row][col][p]*0.3\n",
    "            \n",
    "cv2.imwrite('tape_road_darkened.jpg',img)\n",
    "dimg = cv2.imread('tape_road_darkened.jpg')\n",
    "gray = cv2.cvtColor(dimg,cv2.COLOR_BGR2GRAY)\n",
    "edges = cv2.Canny(gray,100,255)\n",
    "cv2.imwrite('tape_road_darkened_edges.jpg',edges)"
   ]
  },
  {
   "cell_type": "code",
   "execution_count": 3,
   "metadata": {},
   "outputs": [],
   "source": [
    "# Basic test of imread and imshow\n",
    "# load and show cat image\n",
    "\n",
    "img = cv2.imread('cat.jpg')\n",
    "cv2.imshow('image', img)\n",
    "cv2.waitKey(0)\n",
    "cv2.destroyAllWindows()"
   ]
  },
  {
   "cell_type": "code",
   "execution_count": 23,
   "metadata": {
    "scrolled": false
   },
   "outputs": [
    {
     "name": "stdout",
     "output_type": "stream",
     "text": [
      "-1013   74\n",
      "-1012   99\n",
      "-1009   160\n",
      "-1011   128\n",
      "-1011   130\n",
      "-1007   184\n",
      "-990   280\n",
      "-1012   102\n",
      "-1013   107\n",
      "-1012   67\n",
      "-1000   199\n",
      "-1016   48\n",
      "-1000   217\n",
      "-1012   94\n",
      "-1012   19\n",
      "-1007   187\n",
      "-1007   193\n",
      "-1008   143\n",
      "-1012   104\n",
      "-1013   77\n",
      "-1006   164\n",
      "-1015   67\n",
      "-1009   157\n",
      "-1008   -39\n",
      "-1012   97\n",
      "-1000   238\n",
      "-1006   162\n",
      "-1006   178\n",
      "-1000   197\n",
      "-1000   201\n",
      "-1011   123\n",
      "-1014   55\n",
      "-1008   -54\n",
      "-1011   135\n",
      "-1003   199\n",
      "-1011   126\n",
      "-1013   46\n",
      "-1017   9\n",
      "-1013   -41\n",
      "-78   -1025\n",
      "-1006   167\n",
      "-1011   12\n",
      "-1013   26\n",
      "-1012   40\n"
     ]
    },
    {
     "data": {
      "text/plain": [
       "True"
      ]
     },
     "execution_count": 23,
     "metadata": {},
     "output_type": "execute_result"
    }
   ],
   "source": [
    "# Test of line detection (plain Hough transform)\n",
    "\n",
    "img = cv2.imread('road.jpg')\n",
    "gray = cv2.cvtColor(img,cv2.COLOR_BGR2GRAY)\n",
    "cv2.imwrite('road_grayscale.jpg',gray)\n",
    "edges = cv2.Canny(gray,50,150)\n",
    "\n",
    "lines = cv2.HoughLines(edges,1,np.pi/180,200)\n",
    "#print(lines)\n",
    "for line in lines:\n",
    "    for rho,theta in line:\n",
    "        a = np.cos(theta)\n",
    "        b = np.sin(theta)\n",
    "        x0 = a*rho\n",
    "        y0 = b*rho\n",
    "        x1 = int(x0 + 1000*(-b))\n",
    "        y1 = int(y0 + 1000*(a))\n",
    "        x2 = int(x0 - 1000*(-b))\n",
    "        y2 = int(y0 - 1000*(a))\n",
    "\n",
    "        cv2.line(img,(x1,y1),(x2,y2),(0,0,255),2)\n",
    "        print(x1, \" \", y1)\n",
    "\n",
    "cv2.imwrite('houghlines3.jpg',img)"
   ]
  },
  {
   "cell_type": "code",
   "execution_count": 52,
   "metadata": {},
   "outputs": [
    {
     "name": "stdout",
     "output_type": "stream",
     "text": [
      "[[[310 170 393 425]]\n",
      "\n",
      " [[144 373 256 206]]\n",
      "\n",
      " [[  5 202 120 210]]\n",
      "\n",
      " [[ 79 218 206 220]]\n",
      "\n",
      " [[  0 196 157 196]]\n",
      "\n",
      " [[ 20 195 153 167]]\n",
      "\n",
      " [[  2 194 164 194]]\n",
      "\n",
      " [[122 411 192 299]]\n",
      "\n",
      " [[ 27 177 135 162]]\n",
      "\n",
      " [[ 55 197 164 170]]]\n"
     ]
    },
    {
     "data": {
      "text/plain": [
       "True"
      ]
     },
     "execution_count": 52,
     "metadata": {},
     "output_type": "execute_result"
    }
   ],
   "source": [
    "# Test of line detection (prob Hough transform)\n",
    "\n",
    "img = cv2.imread('tape_road.jpg')\n",
    "gray = cv2.cvtColor(img,cv2.COLOR_BGR2GRAY)\n",
    "edges = cv2.Canny(gray,200,255)\n",
    "cv2.imwrite('tape_road_edges.jpg',edges)\n",
    "minLineLength = 100\n",
    "maxLineGap = 10\n",
    "lines = cv2.HoughLinesP(edges,1,np.pi/180,100,minLineLength=100,maxLineGap=10)\n",
    "print(lines)\n",
    "for line in lines:\n",
    "    for x1,y1,x2,y2 in line:\n",
    "        cv2.line(img,(x1,y1),(x2,y2),(0,255,0),2)\n",
    "\n",
    "cv2.imwrite('houghlines5.jpg',img)"
   ]
  }
 ],
 "metadata": {
  "kernelspec": {
   "display_name": "Python 3",
   "language": "python",
   "name": "python3"
  },
  "language_info": {
   "codemirror_mode": {
    "name": "ipython",
    "version": 3
   },
   "file_extension": ".py",
   "mimetype": "text/x-python",
   "name": "python",
   "nbconvert_exporter": "python",
   "pygments_lexer": "ipython3",
   "version": "3.7.4"
  }
 },
 "nbformat": 4,
 "nbformat_minor": 4
}
