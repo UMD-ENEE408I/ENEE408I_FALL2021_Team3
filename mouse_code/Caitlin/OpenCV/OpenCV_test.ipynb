{
 "cells": [
  {
   "cell_type": "code",
   "execution_count": 40,
   "metadata": {},
   "outputs": [],
   "source": [
    "import cv2\n",
    "import numpy as np\n",
    "import matplotlib.pyplot as plt\n",
    "import matplotlib.image as mpimg"
   ]
  },
  {
   "cell_type": "code",
   "execution_count": 45,
   "metadata": {},
   "outputs": [
    {
     "name": "stdout",
     "output_type": "stream",
     "text": [
      "2\n"
     ]
    },
    {
     "data": {
      "text/plain": [
       "True"
      ]
     },
     "execution_count": 45,
     "metadata": {},
     "output_type": "execute_result"
    }
   ],
   "source": [
    "# Prob Hough transform on camera image\n",
    "\n",
    "img = cv2.imread('tape_road.jpg')\n",
    "gray = cv2.cvtColor(img,cv2.COLOR_BGR2GRAY)\n",
    "edges = cv2.Canny(gray,200,255)\n",
    "cv2.imwrite('tape_road_edges.jpg',edges)\n",
    "lines = cv2.HoughLinesP(edges,1,np.pi/180,100,minLineLength=160,maxLineGap=10)\n",
    "print(len(lines))\n",
    "for line in lines:\n",
    "    for x1,y1,x2,y2 in line:\n",
    "        cv2.line(img,(x1,y1),(x2,y2),(0,255,0),2)\n",
    "\n",
    "cv2.imwrite('tape_road_detect.jpg',img)"
   ]
  },
  {
   "cell_type": "code",
   "execution_count": 35,
   "metadata": {},
   "outputs": [
    {
     "data": {
      "text/plain": [
       "True"
      ]
     },
     "execution_count": 35,
     "metadata": {},
     "output_type": "execute_result"
    }
   ],
   "source": [
    "# Darkened top half of image to try to remove some details from surrounding environment\n",
    "# Doesn't work as well as increasing thresholds\n",
    "img = cv2.imread('tape_road.jpg')\n",
    "#print(type(img))\n",
    "\n",
    "#img.shape\n",
    "# image is 426 tall, 640 wide\n",
    "for row in range(240):\n",
    "    for col in range(640):\n",
    "        for p in range(3):\n",
    "            img[row][col][p] = img[row][col][p]*0.3\n",
    "            \n",
    "cv2.imwrite('tape_road_darkened.jpg',img)\n",
    "dimg = cv2.imread('tape_road_darkened.jpg')\n",
    "gray = cv2.cvtColor(dimg,cv2.COLOR_BGR2GRAY)\n",
    "edges = cv2.Canny(gray,100,255)\n",
    "cv2.imwrite('tape_road_darkened_edges.jpg',edges)"
   ]
  },
  {
   "cell_type": "code",
   "execution_count": 3,
   "metadata": {},
   "outputs": [],
   "source": [
    "# Basic test of imread and imshow\n",
    "# load and show cat image\n",
    "\n",
    "img = cv2.imread('cat.jpg')\n",
    "cv2.imshow('image', img)\n",
    "cv2.waitKey(0)\n",
    "cv2.destroyAllWindows()"
   ]
  },
  {
   "cell_type": "code",
   "execution_count": 23,
   "metadata": {
    "scrolled": false
   },
   "outputs": [
    {
     "name": "stdout",
     "output_type": "stream",
     "text": [
      "-1013   74\n",
      "-1012   99\n",
      "-1009   160\n",
      "-1011   128\n",
      "-1011   130\n",
      "-1007   184\n",
      "-990   280\n",
      "-1012   102\n",
      "-1013   107\n",
      "-1012   67\n",
      "-1000   199\n",
      "-1016   48\n",
      "-1000   217\n",
      "-1012   94\n",
      "-1012   19\n",
      "-1007   187\n",
      "-1007   193\n",
      "-1008   143\n",
      "-1012   104\n",
      "-1013   77\n",
      "-1006   164\n",
      "-1015   67\n",
      "-1009   157\n",
      "-1008   -39\n",
      "-1012   97\n",
      "-1000   238\n",
      "-1006   162\n",
      "-1006   178\n",
      "-1000   197\n",
      "-1000   201\n",
      "-1011   123\n",
      "-1014   55\n",
      "-1008   -54\n",
      "-1011   135\n",
      "-1003   199\n",
      "-1011   126\n",
      "-1013   46\n",
      "-1017   9\n",
      "-1013   -41\n",
      "-78   -1025\n",
      "-1006   167\n",
      "-1011   12\n",
      "-1013   26\n",
      "-1012   40\n"
     ]
    },
    {
     "data": {
      "text/plain": [
       "True"
      ]
     },
     "execution_count": 23,
     "metadata": {},
     "output_type": "execute_result"
    }
   ],
   "source": [
    "# Test of line detection (plain Hough transform)\n",
    "\n",
    "img = cv2.imread('road.jpg')\n",
    "gray = cv2.cvtColor(img,cv2.COLOR_BGR2GRAY)\n",
    "cv2.imwrite('road_grayscale.jpg',gray)\n",
    "edges = cv2.Canny(gray,50,150)\n",
    "\n",
    "lines = cv2.HoughLines(edges,1,np.pi/180,200)\n",
    "#print(lines)\n",
    "for line in lines:\n",
    "    for rho,theta in line:\n",
    "        a = np.cos(theta)\n",
    "        b = np.sin(theta)\n",
    "        x0 = a*rho\n",
    "        y0 = b*rho\n",
    "        x1 = int(x0 + 1000*(-b))\n",
    "        y1 = int(y0 + 1000*(a))\n",
    "        x2 = int(x0 - 1000*(-b))\n",
    "        y2 = int(y0 - 1000*(a))\n",
    "\n",
    "        cv2.line(img,(x1,y1),(x2,y2),(0,0,255),2)\n",
    "        print(x1, \" \", y1)\n",
    "\n",
    "cv2.imwrite('houghlines3.jpg',img)"
   ]
  },
  {
   "cell_type": "code",
   "execution_count": 21,
   "metadata": {},
   "outputs": [
    {
     "name": "stdout",
     "output_type": "stream",
     "text": [
      "[[[298 499 343 126]]\n",
      "\n",
      " [[563 219 609 601]]\n",
      "\n",
      " [[538   1 568 253]]\n",
      "\n",
      " [[330 228 357   1]]\n",
      "\n",
      " [[273 713 311 397]]]\n"
     ]
    },
    {
     "data": {
      "text/plain": [
       "True"
      ]
     },
     "execution_count": 21,
     "metadata": {},
     "output_type": "execute_result"
    }
   ],
   "source": [
    "# Test of line detection (prob Hough transform)\n",
    "\n",
    "img = cv2.imread('road.jpg')\n",
    "gray = cv2.cvtColor(img,cv2.COLOR_BGR2GRAY)\n",
    "cv2.imwrite('road_grayscale.jpg',gray)\n",
    "edges = cv2.Canny(gray,50,150)\n",
    "cv2.imwrite('road_edges.jpg',edges)\n",
    "minLineLength = 100\n",
    "maxLineGap = 10\n",
    "lines = cv2.HoughLinesP(edges,1,np.pi/180,100,minLineLength=100,maxLineGap=10)\n",
    "print(lines)\n",
    "for line in lines:\n",
    "    for x1,y1,x2,y2 in line:\n",
    "        cv2.line(img,(x1,y1),(x2,y2),(0,255,0),2)\n",
    "\n",
    "cv2.imwrite('houghlines5.jpg',img)"
   ]
  }
 ],
 "metadata": {
  "kernelspec": {
   "display_name": "Python 3",
   "language": "python",
   "name": "python3"
  },
  "language_info": {
   "codemirror_mode": {
    "name": "ipython",
    "version": 3
   },
   "file_extension": ".py",
   "mimetype": "text/x-python",
   "name": "python",
   "nbconvert_exporter": "python",
   "pygments_lexer": "ipython3",
   "version": "3.7.4"
  }
 },
 "nbformat": 4,
 "nbformat_minor": 4
}
